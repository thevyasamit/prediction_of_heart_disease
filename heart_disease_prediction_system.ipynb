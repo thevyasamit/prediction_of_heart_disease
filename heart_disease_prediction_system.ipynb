{
 "cells": [
  {
   "cell_type": "code",
   "execution_count": 1,
   "metadata": {},
   "outputs": [
    {
     "name": "stderr",
     "output_type": "stream",
     "text": [
      "/Library/Frameworks/Python.framework/Versions/3.6/lib/python3.6/site-packages/sklearn/cross_validation.py:41: DeprecationWarning: This module was deprecated in version 0.18 in favor of the model_selection module into which all the refactored classes and functions are moved. Also note that the interface of the new CV iterators are different from that of this module. This module will be removed in 0.20.\n",
      "  \"This module will be removed in 0.20.\", DeprecationWarning)\n"
     ]
    }
   ],
   "source": [
    "#importing all the libraries\n",
    "from numpy import genfromtxt\n",
    "import numpy as np\n",
    "from numpy import *\n",
    "import matplotlib\n",
    "import matplotlib.pyplot as plt\n",
    "from sklearn.svm import LinearSVC\n",
    "from sklearn.decomposition import PCA\n",
    "import pylab as pl\n",
    "from itertools import cycle\n",
    "from sklearn import cross_validation\n",
    "from sklearn.svm import SVC\n"
   ]
  },
  {
   "cell_type": "code",
   "execution_count": 2,
   "metadata": {},
   "outputs": [],
   "source": [
    "#Loading the data trimming it\n",
    "dataset=genfromtxt('data.csv',delimiter=',')"
   ]
  },
  {
   "cell_type": "code",
   "execution_count": 3,
   "metadata": {},
   "outputs": [],
   "source": [
    "#Feature set\n",
    "X = dataset[:,0:12]\n",
    "#Label set\n",
    "Y = dataset[:,13]"
   ]
  },
  {
   "cell_type": "code",
   "execution_count": 4,
   "metadata": {},
   "outputs": [
    {
     "name": "stdout",
     "output_type": "stream",
     "text": [
      "[0. 1. 1. 0. 0. 0. 1. 0. 1. 1. 0. 0. 1. 0. 0. 0. 1. 0. 0. 0. 0. 0. 1. 1.\n",
      " 1. 0. 0. 0. 0. 1. 0. 1. 1. 0. 0. 0. 1. 1. 1. 0. 1. 0. 0. 0. 1. 1. 0. 1.\n",
      " 0. 0. 0. 0. 1. 0. 1. 1. 1. 1. 0. 0. 1. 0. 1. 0. 1. 1. 1. 0. 1. 1. 0. 1.\n",
      " 1. 1. 1. 0. 1. 0. 0. 1. 0. 0. 0. 1. 0. 0. 0. 0. 0. 0. 1. 0. 0. 0. 1. 1.\n",
      " 1. 0. 0. 0. 0. 0. 0. 1. 0. 1. 1. 1. 1. 1. 1. 0. 1. 1. 0. 0. 0. 1. 1. 1.\n",
      " 1. 0. 1. 1. 0. 1. 1. 0. 0. 0. 0. 0. 0. 0. 0. 1. 1. 1. 0. 0. 1. 0. 1. 0.\n",
      " 1. 1. 0. 0. 0. 0. 0. 0. 1. 1. 1. 1. 1. 1. 0. 0. 1. 0. 0. 0. 0. 0. 1. 0.\n",
      " 1. 0. 1. 0. 1. 1. 0. 1. 0. 0. 1. 1. 0. 0. 1. 0. 0. 1. 1. 1. 0. 1. 1. 0.\n",
      " 1. 0. 0. 0. 1. 0. 0. 0. 0. 0. 1. 1. 1. 0. 1. 0. 1. 0. 1. 1. 0. 0. 0. 0.\n",
      " 0. 0. 0. 0. 1. 1. 0. 0. 0. 1. 1. 0. 1. 1. 0. 0. 1. 1. 1. 0. 0. 0. 0. 0.\n",
      " 1. 0. 1. 1. 1. 1. 0. 0. 1. 0. 0. 0. 0. 0. 0. 0. 1. 0. 1. 0. 0. 1. 1. 1.\n",
      " 1. 0. 1. 0. 1. 0. 1. 0. 0. 0. 1. 0. 1. 0. 1. 0. 1. 1. 1. 0. 0. 1. 0. 1.\n",
      " 1. 1. 0. 1. 1. 1. 1. 1. 1.]\n"
     ]
    }
   ],
   "source": [
    "#Doing binary classification i.e. data with value 0 is 0 and rest is 1\n",
    "\n",
    "for index, item in enumerate(Y):\n",
    "    if not(item==0.0):\n",
    "        Y[index]=1\n",
    "print(Y)\n",
    "target_names=['0','1']"
   ]
  },
  {
   "cell_type": "code",
   "execution_count": 5,
   "metadata": {},
   "outputs": [],
   "source": [
    "#plotting the graph\n",
    "\n",
    "def plot_2d(data,target,target_names):\n",
    "    colors = cycle('rgbcmykw')\n",
    "    target_ids=range(len(target_names))\n",
    "    plt.figure()\n",
    "    for i,c, label in zip(target_ids,colors,target_names):\n",
    "        plt.scatter(data[target==i,0],data[target==i,1],c=c,label=label)\n",
    "    plt.legend()\n",
    "    plt.savefig('graph')"
   ]
  },
  {
   "cell_type": "code",
   "execution_count": 6,
   "metadata": {},
   "outputs": [
    {
     "data": {
      "image/png": "[encoded data removed]",
      "text/plain": [
       "<Figure size 432x288 with 1 Axes>"
      ]
     },
     "metadata": {},
     "output_type": "display_data"
    }
   ],
   "source": [
    "#Classifying the data using linear SVM and predicting the probablities of disease belonging to a particular class\n",
    "#Showing the graph defined by plot_2d \n",
    "modelSVM = LinearSVC(C=0.1)\n",
    "pca = PCA(n_components=2, whiten=True).fit(X)\n",
    "X_new = pca.transform(X)\n",
    "plot_2d(X_new , Y , target_names)"
   ]
  },
  {
   "cell_type": "code",
   "execution_count": 7,
   "metadata": {},
   "outputs": [
    {
     "name": "stdout",
     "output_type": "stream",
     "text": [
      "Linear SVC values with split :\n",
      "0.6166666666666667\n"
     ]
    }
   ],
   "source": [
    "#Cross Validation on Trainig and Test set for validating Linear SVM model\n",
    "X_train,X_test,Y_train,Y_test = cross_validation.train_test_split(X_new,Y,test_size=0.2,train_size=0.8,random_state=0)\n",
    "modelSVM=modelSVM.fit(X_train,Y_train)\n",
    "print(\"Linear SVC values with split :\")\n",
    "print(modelSVM.score(X_test,Y_test))\n",
    "\n",
    "modelSVMRaw = LinearSVC(C=0.1)\n",
    "modelSVMRaw = modelSVMRaw.fit(X_new,Y)\n",
    "cnt=0\n",
    "for i in modelSVMRaw.predict(X_new):\n",
    "    if(i == Y[1]):\n",
    "        cnt= cnt+1\n",
    "# print(\"Linear SVC score without split :\")\n",
    "# print(float(cnt)/101)\n"
   ]
  },
  {
   "cell_type": "code",
   "execution_count": 8,
   "metadata": {},
   "outputs": [
    {
     "name": "stdout",
     "output_type": "stream",
     "text": [
      "RBF score with split :\n",
      "0.6\n"
     ]
    }
   ],
   "source": [
    "#Applying PCA on data features\n",
    "modelSVM2= SVC(C=0.1,kernel='rbf')\n",
    "X_train1,X_test1,Y_train1,Y_test1=cross_validation.train_test_split(X_new,Y,test_size=0.2,train_size=0.8,random_state=0)\n",
    "modelSVM2=modelSVM2.fit(X_train1,Y_train1)\n",
    "print(\"RBF score with split :\")\n",
    "print(modelSVM2.score(X_test1,Y_test1))\n"
   ]
  },
  {
   "cell_type": "code",
   "execution_count": 9,
   "metadata": {},
   "outputs": [
    {
     "name": "stdout",
     "output_type": "stream",
     "text": [
      "RBF score without split :\n",
      "0.3959731543624161\n"
     ]
    }
   ],
   "source": [
    "modelSVMRaw2 = SVC(C=0.1,kernel='rbf')\n",
    "modelSVMRaw2 =modelSVMRaw2.fit(X_new,Y)\n",
    "cnt1=0\n",
    "for i in modelSVMRaw2.predict(X_new):\n",
    "    if i==Y[1]:\n",
    "        cnt1=cnt1+1\n",
    "print(\"RBF score without split :\")\n",
    "print(float(cnt1)/298)"
   ]
  },
  {
   "cell_type": "code",
   "execution_count": 10,
   "metadata": {},
   "outputs": [],
   "source": [
    "#Mest plots creation\n",
    "X_min,X_max=X_new[:,0].min()-1,X_new[:,0].max()+1\n",
    "Y_min,Y_max=X_new[:,1].min()-1,X_new[:,1].max()+1\n",
    "xx,yy=np.meshgrid(np.arange(X_min,X_max,0.2),np.arange(Y_min,Y_max,0.2))\n"
   ]
  },
  {
   "cell_type": "code",
   "execution_count": 11,
   "metadata": {},
   "outputs": [],
   "source": [
    "titles=\"SVC ( RBF Kernel) -- Plotting highest varied 2 PCA values\""
   ]
  },
  {
   "cell_type": "code",
   "execution_count": 12,
   "metadata": {},
   "outputs": [],
   "source": [
    "#Ploting decision boundary with different color to a point in mesh"
   ]
  },
  {
   "cell_type": "code",
   "execution_count": 13,
   "metadata": {},
   "outputs": [
    {
     "data": {
      "text/plain": [
       "<matplotlib.contour.QuadContourSet at 0x114ec69b0>"
      ]
     },
     "execution_count": 13,
     "metadata": {},
     "output_type": "execute_result"
    },
    {
     "data": {
      "image/png": "[encoded data removed]",
      "text/plain": [
       "<Figure size 432x288 with 1 Axes>"
      ]
     },
     "metadata": {},
     "output_type": "display_data"
    }
   ],
   "source": [
    "plt.subplot(2,2,i+1)\n",
    "plt.subplots_adjust(wspace=0.4,hspace=0.4)\n",
    "Z=modelSVM2.predict(np.c_[xx.ravel(),yy.ravel()])\n",
    "Z=Z.reshape(xx.shape)\n",
    "plt.contourf(xx,yy,Z,cmap=plt.cm.Paired,alpha=0.2)"
   ]
  },
  {
   "cell_type": "code",
   "execution_count": 17,
   "metadata": {},
   "outputs": [
    {
     "data": {
      "image/png": "[encoded data removed]",
      "text/plain": [
       "<Figure size 432x288 with 1 Axes>"
      ]
     },
     "metadata": {},
     "output_type": "display_data"
    }
   ],
   "source": [
    "x=[-3,4]\n",
    "y=[-2,6]\n",
    "plt.xlabel(\"PCA-1\")\n",
    "plt.ylabel(\"PCA-2\")\n",
    "plt.scatter(X_new[:,0], X_new[:,1], c=Y, cmap = \"cool\")\n",
    "xx,yy=np.meshgrid(np.arange(X_min,X_max,0.2),np.arange(Y_min,Y_max,0.2))\n",
    "plt.xlim(xx.min(),xx.max())\n",
    "plt.ylim(yy.min(),yy.max())\n",
    "plt.xticks(())\n",
    "plt.yticks(())\n",
    "plt.title(titles)\n",
    "plt.contourf(xx,yy,Z,cmap=plt.cm.Paired,alpha=0.2)\n",
    "\n",
    "plt.show()"
   ]
  },
  {
   "cell_type": "code",
   "execution_count": null,
   "metadata": {},
   "outputs": [],
   "source": []
  }
 ],
 "metadata": {
  "kernelspec": {
   "display_name": "Python 3",
   "language": "python",
   "name": "python3"
  },
  "language_info": {
   "codemirror_mode": {
    "name": "ipython",
    "version": 3
   },
   "file_extension": ".py",
   "mimetype": "text/x-python",
   "name": "python",
   "nbconvert_exporter": "python",
   "pygments_lexer": "ipython3",
   "version": "3.6.4"
  }
 },
 "nbformat": 4,
 "nbformat_minor": 2
}
